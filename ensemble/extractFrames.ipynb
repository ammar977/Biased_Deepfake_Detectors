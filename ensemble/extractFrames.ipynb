{
 "cells": [
  {
   "cell_type": "code",
   "execution_count": 68,
   "id": "a2dded3b",
   "metadata": {},
   "outputs": [],
   "source": [
    "#This notebook should be in the same directory as the dataset. Meta_data.csv must be alongside it. "
   ]
  },
  {
   "cell_type": "code",
   "execution_count": 3,
   "id": "8cb86138",
   "metadata": {},
   "outputs": [],
   "source": [
    "import pandas as pd\n",
    "import cv2\n",
    "import os"
   ]
  },
  {
   "cell_type": "code",
   "execution_count": 5,
   "id": "9c8fef41",
   "metadata": {},
   "outputs": [],
   "source": [
    "#Load metadata file\n",
    "df = pd.read_csv('meta_data.csv')\n",
    "df.rename(columns={'Unnamed: 9':'file_loc'},inplace=True)"
   ]
  },
  {
   "cell_type": "code",
   "execution_count": 11,
   "id": "bad659a2",
   "metadata": {},
   "outputs": [],
   "source": [
    "#Destination directory\n",
    "dest = 'SingleFrame'"
   ]
  },
  {
   "cell_type": "code",
   "execution_count": 13,
   "id": "a2d88bba",
   "metadata": {},
   "outputs": [],
   "source": [
    "#All 4 categories\n",
    "itype = ['RealVideo-RealAudio','RealVideo-FakeAudio','FakeVideo-RealAudio','FakeVideo-FakeAudio']\n",
    "#All races given in the dataset\n",
    "rtype = set(df.race)\n",
    "#All genders given in the dataset\n",
    "gtype = set(df.gender)"
   ]
  },
  {
   "cell_type": "code",
   "execution_count": 19,
   "id": "ced8a723",
   "metadata": {},
   "outputs": [],
   "source": [
    "#Create the necessary folders\n",
    "for i in itype:\n",
    "    os.mkdir(dest+'/'+i)\n",
    "    for j in rtype:\n",
    "        os.mkdir(dest+'/'+i+'/'+j)\n",
    "        for k in gtype:\n",
    "            os.mkdir(dest+'/'+i+'/'+j+'/'+k)\n",
    "            "
   ]
  },
  {
   "cell_type": "code",
   "execution_count": 66,
   "id": "53f3c989",
   "metadata": {},
   "outputs": [],
   "source": [
    "#Extract first frame from all given videos and save them in the corresponding directories\n",
    "def get_frame(df):\n",
    "    for i in range(df.shape[0]):\n",
    "        p = str(df.iloc[i]['path'])\n",
    "        f = df.iloc[i]['file_loc'].split('/')\n",
    "        if os.path.isdir(dest+'/'+f[1]+'/'+f[2]+'/'+f[3]+'/'+f[4]):\n",
    "            vidcap = cv2.VideoCapture(df.iloc[i].file_loc[12:]+'/'+p)\n",
    "            _,img = vidcap.read()\n",
    "            cv2.imwrite(dest+'/'+f[1]+'/'+f[2]+'/'+f[3]+'/'+f[4] + '/' + df.iloc[i]['path'][:-3]+'jpg',img)\n",
    "        else:\n",
    "            os.mkdir(dest+'/'+f[1]+'/'+f[2]+'/'+f[3]+'/'+f[4])\n",
    "            vidcap = cv2.VideoCapture(df.iloc[i].file_loc[12:]+'/'+p)\n",
    "            _,img = vidcap.read()\n",
    "            cv2.imwrite(dest+'/'+f[1]+'/'+f[2]+'/'+f[3]+'/'+f[4] + '/' + df.iloc[i]['path'][:-3]+'jpg',img)\n"
   ]
  },
  {
   "cell_type": "code",
   "execution_count": 67,
   "id": "e29f4659",
   "metadata": {},
   "outputs": [],
   "source": [
    "#Execution of function\n",
    "get_frame(df)"
   ]
  },
  {
   "cell_type": "code",
   "execution_count": null,
   "id": "0c6002c6",
   "metadata": {},
   "outputs": [],
   "source": []
  }
 ],
 "metadata": {
  "kernelspec": {
   "display_name": "Python 3 (ipykernel)",
   "language": "python",
   "name": "python3"
  },
  "language_info": {
   "codemirror_mode": {
    "name": "ipython",
    "version": 3
   },
   "file_extension": ".py",
   "mimetype": "text/x-python",
   "name": "python",
   "nbconvert_exporter": "python",
   "pygments_lexer": "ipython3",
   "version": "3.9.7"
  }
 },
 "nbformat": 4,
 "nbformat_minor": 5
}
